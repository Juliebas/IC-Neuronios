{
 "cells": [
  {
   "cell_type": "markdown",
   "metadata": {},
   "source": [
    "<h1> <b>Testes para diversos grafos <b><h1>"
   ]
  },
  {
   "cell_type": "code",
   "execution_count": 61,
   "metadata": {},
   "outputs": [],
   "source": [
    "#Import do código que habilita esses testes\n",
    "import Algoritmo_do_Artigo as AA\n",
    "import networkx as nx\n",
    "import matplotlib.pyplot as plt"
   ]
  },
  {
   "cell_type": "markdown",
   "metadata": {},
   "source": [
    "<h3> Grafo de linha com 100 neurônios<h2>\n",
    "<h6>Caso queira ver o gráfico com o tempo use plot = True<h6>"
   ]
  },
  {
   "cell_type": "code",
   "execution_count": 62,
   "metadata": {},
   "outputs": [
    {
     "name": "stdout",
     "output_type": "stream",
     "text": [
      "Tempo de sobrevivencia:  7.483857886702995\n"
     ]
    }
   ],
   "source": [
    "t = AA.Main(nx.path_graph(100), 1, plot=False)\n",
    "print(\"Tempo de sobrevivencia: \", t)"
   ]
  },
  {
   "cell_type": "markdown",
   "metadata": {},
   "source": [
    "<h3> Grafo de Erdos Renyi com probabilidade 0.03 <h3>"
   ]
  },
  {
   "cell_type": "code",
   "execution_count": 63,
   "metadata": {},
   "outputs": [
    {
     "ename": "KeyboardInterrupt",
     "evalue": "",
     "output_type": "error",
     "traceback": [
      "\u001b[31m---------------------------------------------------------------------------\u001b[39m",
      "\u001b[31mKeyboardInterrupt\u001b[39m                         Traceback (most recent call last)",
      "\u001b[36mCell\u001b[39m\u001b[36m \u001b[39m\u001b[32mIn[63]\u001b[39m\u001b[32m, line 1\u001b[39m\n\u001b[32m----> \u001b[39m\u001b[32m1\u001b[39m t = \u001b[43mAA\u001b[49m\u001b[43m.\u001b[49m\u001b[43mMain\u001b[49m\u001b[43m(\u001b[49m\u001b[43mnx\u001b[49m\u001b[43m.\u001b[49m\u001b[43merdos_renyi_graph\u001b[49m\u001b[43m(\u001b[49m\u001b[32;43m100\u001b[39;49m\u001b[43m,\u001b[49m\u001b[43m \u001b[49m\u001b[32;43m0.05\u001b[39;49m\u001b[43m)\u001b[49m\u001b[43m,\u001b[49m\u001b[43m \u001b[49m\u001b[32;43m1\u001b[39;49m\u001b[43m,\u001b[49m\u001b[43m \u001b[49m\u001b[43mplot\u001b[49m\u001b[43m \u001b[49m\u001b[43m=\u001b[49m\u001b[43m \u001b[49m\u001b[38;5;28;43;01mFalse\u001b[39;49;00m\u001b[43m,\u001b[49m\u001b[43m \u001b[49m\u001b[43mt_up_plot\u001b[49m\u001b[43m=\u001b[49m\u001b[32;43m50000\u001b[39;49m\u001b[43m)\u001b[49m\n\u001b[32m      2\u001b[39m \u001b[38;5;28mprint\u001b[39m(\u001b[33m\"\u001b[39m\u001b[33mTempo de sobrevivencia: \u001b[39m\u001b[33m\"\u001b[39m, t)\n",
      "\u001b[36mFile \u001b[39m\u001b[32m~/Projects/IC-Neuronios/Algoritmo_do_Artigo.py:45\u001b[39m, in \u001b[36mMain\u001b[39m\u001b[34m(S, g, plot, t_up_plot)\u001b[39m\n\u001b[32m     43\u001b[39m         S.nodes[vizinhos][\u001b[33m'\u001b[39m\u001b[33mvalue\u001b[39m\u001b[33m'\u001b[39m] = \u001b[32m1\u001b[39m\n\u001b[32m     44\u001b[39m     d = t + np.random.exponential(\u001b[32m1\u001b[39m/s)\n\u001b[32m---> \u001b[39m\u001b[32m45\u001b[39m s = \u001b[38;5;28msum\u001b[39m(\u001b[43mnx\u001b[49m\u001b[43m.\u001b[49m\u001b[43mget_node_attributes\u001b[49m\u001b[43m(\u001b[49m\u001b[43mS\u001b[49m\u001b[43m,\u001b[49m\u001b[43m \u001b[49m\u001b[33;43m'\u001b[39;49m\u001b[33;43mvalue\u001b[39;49m\u001b[33;43m'\u001b[39;49m\u001b[43m)\u001b[49m.values())\n\u001b[32m     46\u001b[39m n_ativos += [s]\n\u001b[32m     48\u001b[39m \u001b[38;5;250m\u001b[39m\u001b[33;03m'''\u001b[39;00m\n\u001b[32m     49\u001b[39m \u001b[33;03mParte voltada para o gráfico\u001b[39;00m\n\u001b[32m     50\u001b[39m \u001b[33;03m'''\u001b[39;00m\n",
      "\u001b[36mFile \u001b[39m\u001b[32m~/Projects/IC-Neuronios/.venv/lib/python3.12/site-packages/networkx/classes/function.py:703\u001b[39m, in \u001b[36mget_node_attributes\u001b[39m\u001b[34m(G, name, default)\u001b[39m\n\u001b[32m    701\u001b[39m \u001b[38;5;28;01mif\u001b[39;00m default \u001b[38;5;129;01mis\u001b[39;00m \u001b[38;5;129;01mnot\u001b[39;00m \u001b[38;5;28;01mNone\u001b[39;00m:\n\u001b[32m    702\u001b[39m     \u001b[38;5;28;01mreturn\u001b[39;00m {n: d.get(name, default) \u001b[38;5;28;01mfor\u001b[39;00m n, d \u001b[38;5;129;01min\u001b[39;00m G.nodes.items()}\n\u001b[32m--> \u001b[39m\u001b[32m703\u001b[39m \u001b[38;5;28;01mreturn\u001b[39;00m {n: d[name] \u001b[38;5;28;01mfor\u001b[39;00m n, d \u001b[38;5;129;01min\u001b[39;00m G.nodes.items() \u001b[38;5;28;01mif\u001b[39;00m name \u001b[38;5;129;01min\u001b[39;00m d}\n",
      "\u001b[31mKeyboardInterrupt\u001b[39m: "
     ]
    }
   ],
   "source": [
    "t = AA.Main(nx.erdos_renyi_graph(100, 0.05), 1, plot = False, t_up_plot=50000)\n",
    "print(\"Tempo de sobrevivencia: \", t)"
   ]
  },
  {
   "cell_type": "markdown",
   "metadata": {},
   "source": [
    "<h3>Ligaremos dois Erdos-Renyi agora<h3>"
   ]
  },
  {
   "cell_type": "code",
   "execution_count": 64,
   "metadata": {},
   "outputs": [
    {
     "name": "stdout",
     "output_type": "stream",
     "text": [
      "Matriz 1:\n",
      " [[0 1 1 1 0]\n",
      " [1 0 1 0 1]\n",
      " [1 1 0 1 0]\n",
      " [1 0 1 0 0]\n",
      " [0 1 0 0 0]]\n",
      "Matriz 2:\n",
      " [[0 1 1 0 0]\n",
      " [1 0 0 0 1]\n",
      " [1 0 0 1 1]\n",
      " [0 0 1 0 0]\n",
      " [0 1 1 0 0]]\n"
     ]
    }
   ],
   "source": [
    "G1 = nx.erdos_renyi_graph(5, 0.5)\n",
    "G2 = nx.erdos_renyi_graph(5, 0.5)\n",
    "\n",
    "print(\"Matriz 1:\\n\", nx.to_numpy_array(G1, dtype=int))\n",
    "print(\"Matriz 2:\\n\", nx.to_numpy_array(G2, dtype=int))"
   ]
  },
  {
   "cell_type": "code",
   "execution_count": 65,
   "metadata": {},
   "outputs": [],
   "source": [
    "#Chamando os nós de outros números para evitar sobreposição\n",
    "\n",
    "mapping = {node: node + len(G1) for node in G2.nodes()}\n",
    "G2 = nx.relabel_nodes(G2, mapping)"
   ]
  },
  {
   "cell_type": "code",
   "execution_count": null,
   "metadata": {},
   "outputs": [
    {
     "name": "stdout",
     "output_type": "stream",
     "text": [
      "Matriz nova:\n",
      " [[0 1 1 1 0 1 0 0 0 0]\n",
      " [1 0 1 0 1 0 0 0 0 0]\n",
      " [1 1 0 1 0 0 0 0 0 0]\n",
      " [1 0 1 0 0 0 0 0 0 0]\n",
      " [0 1 0 0 0 0 0 0 0 0]\n",
      " [1 0 0 0 0 0 1 1 0 0]\n",
      " [0 0 0 0 0 1 0 0 1 0]\n",
      " [0 0 0 0 0 1 0 0 1 1]\n",
      " [0 0 0 0 0 0 1 1 0 0]\n",
      " [0 0 0 0 0 0 0 1 0 0]]\n"
     ]
    }
   ],
   "source": [
    "#Adiciona todas as linhas da matriz\n",
    "G = nx.Graph()\n",
    "G.add_edges_from(G1.edges())\n",
    "G.add_edges_from(G2.edges())\n",
    "\n",
    "# Conectando a 0 (primeira de G1) com N (primeira de G2)\n",
    "G.add_edge(0, len(G1)) \n",
    "\n",
    "print(\"Matriz nova:\\n\", nx.to_numpy_array(G, dtype=int))"
   ]
  },
  {
   "cell_type": "code",
   "execution_count": null,
   "metadata": {},
   "outputs": [
    {
     "data": {
      "image/png": "[encoded data removed]",
      "text/plain": [
       "<Figure size 640x480 with 1 Axes>"
      ]
     },
     "metadata": {},
     "output_type": "display_data"
    }
   ],
   "source": [
    "nx.draw(G, with_labels=True, node_color=\"lightblue\", edge_color=\"gray\", node_size=700, font_size=12)\n",
    "plt.show()"
   ]
  },
  {
   "cell_type": "markdown",
   "metadata": {},
   "source": [
    "Repare que o G1 sempre terá os pontos iniciais {0, 1, 2, ..., N-1}\n",
    "e G2 o resto: {N, N+1, ..., 2N-1}"
   ]
  }
 ],
 "metadata": {
  "kernelspec": {
   "display_name": ".venv",
   "language": "python",
   "name": "python3"
  },
  "language_info": {
   "codemirror_mode": {
    "name": "ipython",
    "version": 3
   },
   "file_extension": ".py",
   "mimetype": "text/x-python",
   "name": "python",
   "nbconvert_exporter": "python",
   "pygments_lexer": "ipython3",
   "version": "3.12.3"
  }
 },
 "nbformat": 4,
 "nbformat_minor": 2
}
